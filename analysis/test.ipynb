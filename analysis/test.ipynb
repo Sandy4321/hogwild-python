{
 "cells": [
  {
   "cell_type": "code",
   "execution_count": 5,
   "metadata": {},
   "outputs": [],
   "source": [
    "import pandas as pd\n",
    "import json\n",
    "from pandas.io.json import json_normalize"
   ]
  },
  {
   "cell_type": "code",
   "execution_count": 8,
   "metadata": {},
   "outputs": [],
   "source": [
    "FILE = '../logs/running.json'"
   ]
  },
  {
   "cell_type": "code",
   "execution_count": 9,
   "metadata": {},
   "outputs": [],
   "source": [
    "with open(FILE) as f:\n",
    "    d = json.load(f)"
   ]
  },
  {
   "cell_type": "code",
   "execution_count": 10,
   "metadata": {},
   "outputs": [],
   "source": [
    "logs = json_normalize(d)\n",
    "logs['start_time'] = pd.to_datetime(logs['start_time'])\n",
    "logs['end_time'] = pd.to_datetime(logs['end_time'])\n",
    "del logs['losses_val']"
   ]
  },
  {
   "cell_type": "code",
   "execution_count": 11,
   "metadata": {},
   "outputs": [
    {
     "data": {
      "text/html": [
       "<div>\n",
       "<style scoped>\n",
       "    .dataframe tbody tr th:only-of-type {\n",
       "        vertical-align: middle;\n",
       "    }\n",
       "\n",
       "    .dataframe tbody tr th {\n",
       "        vertical-align: top;\n",
       "    }\n",
       "\n",
       "    .dataframe thead th {\n",
       "        text-align: right;\n",
       "    }\n",
       "</style>\n",
       "<table border=\"1\" class=\"dataframe\">\n",
       "  <thead>\n",
       "    <tr style=\"text-align: right;\">\n",
       "      <th></th>\n",
       "      <th>accuracy</th>\n",
       "      <th>accuracy_-1</th>\n",
       "      <th>accuracy_1</th>\n",
       "      <th>end_time</th>\n",
       "      <th>n_workers</th>\n",
       "      <th>running_mode</th>\n",
       "      <th>running_time</th>\n",
       "      <th>start_time</th>\n",
       "    </tr>\n",
       "  </thead>\n",
       "  <tbody>\n",
       "    <tr>\n",
       "      <th>0</th>\n",
       "      <td>0.919620</td>\n",
       "      <td>0.957689</td>\n",
       "      <td>0.876498</td>\n",
       "      <td>2018-05-26 15:30:00</td>\n",
       "      <td>10</td>\n",
       "      <td>synchronous</td>\n",
       "      <td>1262.825377</td>\n",
       "      <td>2018-05-26 15:08:57</td>\n",
       "    </tr>\n",
       "    <tr>\n",
       "      <th>1</th>\n",
       "      <td>0.607606</td>\n",
       "      <td>1.000000</td>\n",
       "      <td>0.153774</td>\n",
       "      <td>2018-05-26 15:37:27</td>\n",
       "      <td>10</td>\n",
       "      <td>asynchronous</td>\n",
       "      <td>57.065735</td>\n",
       "      <td>2018-05-26 15:36:30</td>\n",
       "    </tr>\n",
       "    <tr>\n",
       "      <th>2</th>\n",
       "      <td>0.628781</td>\n",
       "      <td>1.000000</td>\n",
       "      <td>0.192669</td>\n",
       "      <td>2018-05-26 16:11:49</td>\n",
       "      <td>20</td>\n",
       "      <td>asynchronous</td>\n",
       "      <td>93.332715</td>\n",
       "      <td>2018-05-26 16:10:16</td>\n",
       "    </tr>\n",
       "    <tr>\n",
       "      <th>3</th>\n",
       "      <td>0.621003</td>\n",
       "      <td>1.000000</td>\n",
       "      <td>0.199087</td>\n",
       "      <td>2018-05-26 16:21:35</td>\n",
       "      <td>2</td>\n",
       "      <td>asynchronous</td>\n",
       "      <td>27.948042</td>\n",
       "      <td>2018-05-26 16:21:07</td>\n",
       "    </tr>\n",
       "  </tbody>\n",
       "</table>\n",
       "</div>"
      ],
      "text/plain": [
       "   accuracy  accuracy_-1  accuracy_1            end_time n_workers  \\\n",
       "0  0.919620     0.957689    0.876498 2018-05-26 15:30:00        10   \n",
       "1  0.607606     1.000000    0.153774 2018-05-26 15:37:27        10   \n",
       "2  0.628781     1.000000    0.192669 2018-05-26 16:11:49        20   \n",
       "3  0.621003     1.000000    0.199087 2018-05-26 16:21:35         2   \n",
       "\n",
       "   running_mode  running_time          start_time  \n",
       "0   synchronous   1262.825377 2018-05-26 15:08:57  \n",
       "1  asynchronous     57.065735 2018-05-26 15:36:30  \n",
       "2  asynchronous     93.332715 2018-05-26 16:10:16  \n",
       "3  asynchronous     27.948042 2018-05-26 16:21:07  "
      ]
     },
     "execution_count": 11,
     "metadata": {},
     "output_type": "execute_result"
    }
   ],
   "source": [
    "logs.head()"
   ]
  },
  {
   "cell_type": "code",
   "execution_count": 12,
   "metadata": {},
   "outputs": [],
   "source": [
    "times = [pd.DataFrame(d[i]['losses_val']) for i in range(len(d))]"
   ]
  },
  {
   "cell_type": "code",
   "execution_count": 13,
   "metadata": {},
   "outputs": [
    {
     "data": {
      "text/html": [
       "<div>\n",
       "<style scoped>\n",
       "    .dataframe tbody tr th:only-of-type {\n",
       "        vertical-align: middle;\n",
       "    }\n",
       "\n",
       "    .dataframe tbody tr th {\n",
       "        vertical-align: top;\n",
       "    }\n",
       "\n",
       "    .dataframe thead th {\n",
       "        text-align: right;\n",
       "    }\n",
       "</style>\n",
       "<table border=\"1\" class=\"dataframe\">\n",
       "  <thead>\n",
       "    <tr style=\"text-align: right;\">\n",
       "      <th></th>\n",
       "      <th>loss_val</th>\n",
       "      <th>time</th>\n",
       "    </tr>\n",
       "  </thead>\n",
       "  <tbody>\n",
       "    <tr>\n",
       "      <th>0</th>\n",
       "      <td>2297.214048</td>\n",
       "      <td>2018-05-26 15:09:12</td>\n",
       "    </tr>\n",
       "    <tr>\n",
       "      <th>1</th>\n",
       "      <td>2280.627908</td>\n",
       "      <td>2018-05-26 15:09:14</td>\n",
       "    </tr>\n",
       "    <tr>\n",
       "      <th>2</th>\n",
       "      <td>2257.971003</td>\n",
       "      <td>2018-05-26 15:09:15</td>\n",
       "    </tr>\n",
       "    <tr>\n",
       "      <th>3</th>\n",
       "      <td>2243.362901</td>\n",
       "      <td>2018-05-26 15:09:17</td>\n",
       "    </tr>\n",
       "    <tr>\n",
       "      <th>4</th>\n",
       "      <td>2235.283894</td>\n",
       "      <td>2018-05-26 15:09:18</td>\n",
       "    </tr>\n",
       "  </tbody>\n",
       "</table>\n",
       "</div>"
      ],
      "text/plain": [
       "      loss_val                 time\n",
       "0  2297.214048  2018-05-26 15:09:12\n",
       "1  2280.627908  2018-05-26 15:09:14\n",
       "2  2257.971003  2018-05-26 15:09:15\n",
       "3  2243.362901  2018-05-26 15:09:17\n",
       "4  2235.283894  2018-05-26 15:09:18"
      ]
     },
     "execution_count": 13,
     "metadata": {},
     "output_type": "execute_result"
    }
   ],
   "source": [
    "times[0].head()"
   ]
  },
  {
   "cell_type": "code",
   "execution_count": null,
   "metadata": {},
   "outputs": [],
   "source": []
  }
 ],
 "metadata": {
  "kernelspec": {
   "display_name": "Python 3",
   "language": "python",
   "name": "python3"
  },
  "language_info": {
   "codemirror_mode": {
    "name": "ipython",
    "version": 3
   },
   "file_extension": ".py",
   "mimetype": "text/x-python",
   "name": "python",
   "nbconvert_exporter": "python",
   "pygments_lexer": "ipython3",
   "version": "3.6.4"
  }
 },
 "nbformat": 4,
 "nbformat_minor": 2
}
